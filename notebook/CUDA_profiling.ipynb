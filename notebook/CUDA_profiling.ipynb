{
 "cells": [
  {
   "cell_type": "markdown",
   "id": "e12422a1",
   "metadata": {},
   "source": [
    "# CUDA Profiling"
   ]
  },
  {
   "cell_type": "markdown",
   "id": "12bc3b60",
   "metadata": {},
   "source": [
    "Here I'm going to show the actual effects of using CUDA and with fused kernels as well as the pains we see when we end up with branching and warp divergence. "
   ]
  }
 ],
 "metadata": {
  "language_info": {
   "name": "python"
  }
 },
 "nbformat": 4,
 "nbformat_minor": 5
}
