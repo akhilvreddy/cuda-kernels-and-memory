{
 "cells": [
  {
   "cell_type": "markdown",
   "id": "e12422a1",
   "metadata": {},
   "source": [
    "# CUDA Profiling"
   ]
  },
  {
   "cell_type": "markdown",
   "id": "12bc3b60",
   "metadata": {},
   "source": [
    "Here I'm going to show the actual effects of using CUDA and with fused kernels as well as the pains we see when we end up with branching and warp divergence. "
   ]
  },
  {
   "cell_type": "markdown",
   "id": "df900bb3",
   "metadata": {},
   "source": [
    "I'm running this in Google Colab so I would need to go ahead and set up first. "
   ]
  },
  {
   "cell_type": "code",
   "execution_count": null,
   "id": "4536847d",
   "metadata": {},
   "outputs": [],
   "source": [
    "!git config --global user.email \"akhilvaragamreddy@gmail.com\"\n",
    "!git config --global user.name \"Akhil Reddy\""
   ]
  },
  {
   "cell_type": "code",
   "execution_count": null,
   "id": "5f547b9a",
   "metadata": {},
   "outputs": [],
   "source": [
    "from getpass import getpass\n",
    "token = getpass('GitHub token: ')\n",
    "\n",
    "repo_url = f\"https://{token}@github.com/akhilvreddy/cuda-kernels-and-memory.git\""
   ]
  }
 ],
 "metadata": {
  "language_info": {
   "name": "python"
  }
 },
 "nbformat": 4,
 "nbformat_minor": 5
}
